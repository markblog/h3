{
 "cells": [
  {
   "cell_type": "code",
   "execution_count": 5,
   "metadata": {},
   "outputs": [
    {
     "name": "stdout",
     "output_type": "stream",
     "text": [
      "\u001b[41mThread-46 拿到A锁\u001b[0m\n",
      "\u001b[42mThread-46 拿到B锁\u001b[0m\n",
      "\u001b[43mThread-46 拿到B锁\u001b[0m\n",
      "\u001b[41mThread-47 拿到A锁\u001b[0m\n"
     ]
    }
   ],
   "source": [
    "from threading import Thread,Lock\n",
    "import time\n",
    "mutexA=Lock()\n",
    "mutexB=Lock()\n",
    "\n",
    "class MyThread(Thread):\n",
    "    def run(self):\n",
    "        self.func1()\n",
    "        self.func2()\n",
    "    def func1(self):\n",
    "        mutexA.acquire()\n",
    "        print('\\033[41m%s 拿到A锁\\033[0m' %self.name)\n",
    "\n",
    "        mutexB.acquire()\n",
    "        print('\\033[42m%s 拿到B锁\\033[0m' %self.name)\n",
    "        mutexB.release()\n",
    "\n",
    "        mutexA.release()\n",
    "\n",
    "    def func2(self):\n",
    "        mutexB.acquire()\n",
    "        print('\\033[43m%s 拿到B锁\\033[0m' %self.name)\n",
    "        time.sleep(2)\n",
    "\n",
    "        mutexA.acquire()\n",
    "        print('\\033[44m%s 拿到A锁\\033[0m' %self.name)\n",
    "        mutexA.release()\n",
    "\n",
    "        mutexB.release()\n",
    "\n",
    "if __name__ == '__main__':\n",
    "    for i in range(10):\n",
    "        t=MyThread()\n",
    "        t.start()\n",
    "\n",
    "# '''\n",
    "# Thread-1 拿到A锁\n",
    "# Thread-1 拿到B锁\n",
    "# Thread-1 拿到B锁\n",
    "# Thread-2 拿到A锁\n",
    "# 然后就卡住，死锁了\n",
    "# '''\n"
   ]
  },
  {
   "cell_type": "code",
   "execution_count": null,
   "metadata": {},
   "outputs": [],
   "source": []
  },
  {
   "cell_type": "code",
   "execution_count": null,
   "metadata": {},
   "outputs": [],
   "source": []
  }
 ],
 "metadata": {
  "kernelspec": {
   "display_name": "Python 3",
   "language": "python",
   "name": "python3"
  },
  "language_info": {
   "codemirror_mode": {
    "name": "ipython",
    "version": 3
   },
   "file_extension": ".py",
   "mimetype": "text/x-python",
   "name": "python",
   "nbconvert_exporter": "python",
   "pygments_lexer": "ipython3",
   "version": "3.6.4"
  }
 },
 "nbformat": 4,
 "nbformat_minor": 2
}
