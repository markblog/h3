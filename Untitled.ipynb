{
 "cells": [
  {
   "cell_type": "code",
   "execution_count": 9,
   "metadata": {},
   "outputs": [
    {
     "name": "stdout",
     "output_type": "stream",
     "text": [
      "haha\n"
     ]
    }
   ],
   "source": [
    "\n",
    "print(\"haha\")\n",
    "print(\"hehe\")"
   ]
  },
  {
   "cell_type": "code",
   "execution_count": 19,
   "metadata": {},
   "outputs": [
    {
     "name": "stdout",
     "output_type": "stream",
     "text": [
      "iter\n",
      "next02\n",
      "0\n",
      "next01\n",
      "1\n",
      "next01\n",
      "2\n",
      "next01\n",
      "3\n",
      "next01\n",
      "4\n"
     ]
    }
   ],
   "source": [
    "class foo:\n",
    "    def __init__(self,start,stop=None,step=1):\n",
    "        self.start = start\n",
    "        self.stop = stop\n",
    "        self.step = step\n",
    "        if isinstance(self.start,str) \\\n",
    "                or isinstance(self.stop,str) \\\n",
    "                or isinstance(self.step,str):\n",
    "            raise InterruptedError(\"Must be Numeric\")\n",
    "\n",
    "    def __next__(self):\n",
    "        if self.stop:\n",
    "            res = self.compute()\n",
    "            print('next01')\n",
    "        else:\n",
    "            print('next02')\n",
    "            self.stop = self.start\n",
    "            # 如果只传了一个数字,则将其设为迭代停止数字\n",
    "            self.start = 0\n",
    "            # 如果只传了一个数字，则默认从0开始迭代\n",
    "            res = self.compute()\n",
    "        return res\n",
    "\n",
    "    def __iter__(self):\n",
    "        print(\"iter\")\n",
    "        return self\n",
    "        #迭代器执行__iter__方法，返回的是它本身\n",
    "\n",
    "    def compute(self):\n",
    "        if self.start >= self.stop:\n",
    "            #判断是否超出迭代停止数字\n",
    "            raise StopIteration\n",
    "            # 这是超出迭代器范围后迭代器协议规定的抛出异常\n",
    "        iter_val = self.start     #迭代后的值\n",
    "        self.start += self.step\n",
    "        return iter_val\n",
    "\n",
    "# for i in foo('a',20,3.5):\n",
    "#     print(i)\n",
    "\n",
    "for i in foo(5):\n",
    "    print(i)\n"
   ]
  },
  {
   "cell_type": "code",
   "execution_count": 25,
   "metadata": {},
   "outputs": [
    {
     "name": "stdout",
     "output_type": "stream",
     "text": [
      "我是函数的描述信息\n",
      "我是类的描述信息\n",
      "我是类的描述信息\n",
      "None\n"
     ]
    }
   ],
   "source": [
    "def func():\n",
    "    '''我是函数的描述信息'''\n",
    "    pass\n",
    "print(func.__doc__)\n",
    "\n",
    "class Foo:\n",
    "    '''我是类的描述信息'''\n",
    "    pass\n",
    "\n",
    "class bar(Foo):\n",
    "    pass\n",
    "\n",
    "obj = Foo()\n",
    "print(obj.__doc__)\n",
    "print(Foo.__doc__)\n",
    "print(bar.__doc__)   \n",
    "#该属性不会继承给子类\n",
    "\n",
    "# '''\n",
    "# 输出：\n",
    "# 我是函数的描述信息\n",
    "# 我是类的描述信息\n",
    "# 我是类的描述信息\n",
    "# None\n",
    "# '''\n"
   ]
  },
  {
   "cell_type": "code",
   "execution_count": 27,
   "metadata": {},
   "outputs": [
    {
     "name": "stdout",
     "output_type": "stream",
     "text": [
      "0\n"
     ]
    }
   ],
   "source": [
    "import time\n",
    "\n",
    "class FileHandler:\n",
    "    def __init__(self,filename,mode='r',encoding=\"utf-8\"):\n",
    "        self.file = open(filename,mode,encoding=encoding)\n",
    "        #self.file获取到一个文件句柄\n",
    "\n",
    "    def write(self,line):\n",
    "        t = time.strftime(\"%Y-%m-%d %X\")\n",
    "        self.file.write(\"%s %s\"%(t,line))\n",
    "\n",
    "    def __getattr__(self, item):\n",
    "        return getattr(self.file,item)\n",
    "        #当对象调用FileHandler类不存在的方法时，会返回open()函数的item字符串对应的方法；\n",
    "        \n",
    "\n",
    "f1 = FileHandler(\"a.txt\",\"r+\")\n",
    "f1.write(\"你好吗\\n\")\n",
    "f1.seek(0)\n",
    "print(f1.tell())   #0\n",
    "\n"
   ]
  },
  {
   "cell_type": "code",
   "execution_count": 28,
   "metadata": {},
   "outputs": [
    {
     "name": "stdout",
     "output_type": "stream",
     "text": [
      "<bound method foo.func of <__main__.foo object at 0x000000C193FFE780>>\n",
      "Hello world\n",
      "不存在\n"
     ]
    }
   ],
   "source": [
    "class foo:\n",
    "    name = \"egon\"\n",
    "    def func(self):\n",
    "        print(\"Hello world\")\n",
    "\n",
    "obj = foo()\n",
    "print(getattr(obj,\"func\"))\n",
    "    #<bound method foo.func of <__main__.foo object at 0x000000000112ACC0>>\n",
    "    #可以看出，输出结果是一个绑定方法\n",
    "\n",
    "f1 = getattr(obj,\"func\")\n",
    "f2 = getattr(obj,\"bar\",\"不存在\")\n",
    "f1()   #Hello world\n",
    "print(f2)  #不存在\n",
    "\n"
   ]
  },
  {
   "cell_type": "code",
   "execution_count": 29,
   "metadata": {},
   "outputs": [
    {
     "name": "stdout",
     "output_type": "stream",
     "text": [
      "True\n"
     ]
    }
   ],
   "source": [
    "class foo:\n",
    "    pass\n",
    "obj = foo()\n",
    "print(isinstance(obj,foo))  #True\n"
   ]
  },
  {
   "cell_type": "code",
   "execution_count": 38,
   "metadata": {},
   "outputs": [
    {
     "name": "stdout",
     "output_type": "stream",
     "text": [
      "True\n",
      "True\n"
     ]
    }
   ],
   "source": [
    "class foo:\n",
    "    pass\n",
    "obj = foo()\n",
    "\n",
    "\n",
    "\n",
    "\n",
    "print(isinstance(obj,foo))  #True\n",
    "\n",
    "# class bar(foo):\n",
    "#     pass\n",
    "# print(issubclass(bar,foo))  #True\n"
   ]
  },
  {
   "cell_type": "code",
   "execution_count": null,
   "metadata": {},
   "outputs": [],
   "source": []
  },
  {
   "cell_type": "code",
   "execution_count": null,
   "metadata": {},
   "outputs": [],
   "source": []
  },
  {
   "cell_type": "code",
   "execution_count": 59,
   "metadata": {},
   "outputs": [
    {
     "name": "stdout",
     "output_type": "stream",
     "text": [
      "---> from __setattr__\n",
      "{'y': 10}\n",
      "---> 你找的属性不存在\n",
      "---> from __delattr__\n"
     ]
    }
   ],
   "source": [
    "class Foo:\n",
    "    x = 1\n",
    "    def __init__(self,y):\n",
    "        self.y = y\n",
    "        \n",
    "\n",
    "    def __getattr__(self, item):\n",
    "        print(\"---> 你找的属性不存在\")\n",
    "\n",
    "    def __setattr__(self, key, value):\n",
    "        print(\"---> from __setattr__\")\n",
    "#         self.key = value  #这样会陷入无限递归，只能通过__dict__字典进行赋值\n",
    "        self.__dict__[key] = value   \n",
    "        #这样才可以正确赋值\n",
    "\n",
    "    def __delattr__(self, item):\n",
    "        print(\"---> from __delattr__\")\n",
    "\n",
    "f1 = Foo(10)  #相当于设值，触发__setattr__执行，---> from __setattr__\n",
    "print(f1.__dict__)\n",
    "    #{}，直接打印为空，是因为你自己重写了__setattr__方法，\n",
    "    # 而你在__setattr__方法中没有真正赋值\n",
    "\n",
    "f1.z          #触发__getattr__执行，---> 你找的属性不存在\n",
    "\n",
    "del f1.x      #触发__delattr__执行，---> from __delattr__\n"
   ]
  },
  {
   "cell_type": "code",
   "execution_count": 61,
   "metadata": {},
   "outputs": [
    {
     "name": "stdout",
     "output_type": "stream",
     "text": [
      "True\n",
      "<function s2 at 0x000000C193FA0D90>\n"
     ]
    }
   ],
   "source": [
    "import sys\n",
    "def s1():\n",
    "    print(\"s1\")\n",
    "\n",
    "def s2():\n",
    "    print(\"s2\")\n",
    "\n",
    "this_module = sys.modules[__name__]\n",
    "print(hasattr(this_module,\"s1\"))   #True\n",
    "print(getattr(this_module,\"s2\"))\n",
    "    #<function s2 at 0x00000000006EE378>,加括号可执行\n",
    "\n"
   ]
  },
  {
   "cell_type": "code",
   "execution_count": 62,
   "metadata": {},
   "outputs": [
    {
     "name": "stdout",
     "output_type": "stream",
     "text": [
      "[1, 2, 3, 4]\n",
      "[1, 2, 3, 4, 5]\n",
      "3\n"
     ]
    }
   ],
   "source": [
    "class List(list):\n",
    "    def append(self,p_object):\n",
    "        #派生出自己的append方法，会覆盖父类list中的append方法\n",
    "        if not isinstance(p_object,int):\n",
    "            raise TypeError(\"%s must be int\"%p_object)\n",
    "        super(List, self).append(p_object)\n",
    "\n",
    "    @property\n",
    "        #中间值听起来更像一个属性，而非方法，所以使用property\n",
    "    def mid(self):\n",
    "        mid_num = len(self) // 2\n",
    "        return self[mid_num]\n",
    "\n",
    "\n",
    "l = List([1,2,3,4])\n",
    "print(l)             #[1, 2, 3, 4]\n",
    "l.append(5)\n",
    "print(l)             #[1, 2, 3, 4, 5]\n",
    "print(l.mid)         #中间值3\n"
   ]
  },
  {
   "cell_type": "code",
   "execution_count": 69,
   "metadata": {},
   "outputs": [
    {
     "name": "stdout",
     "output_type": "stream",
     "text": [
      "[1, 2, 3]\n"
     ]
    },
    {
     "ename": "PermissionError",
     "evalue": "权限拒绝",
     "output_type": "error",
     "traceback": [
      "\u001b[1;31m---------------------------------------------------------------------------\u001b[0m",
      "\u001b[1;31mPermissionError\u001b[0m                           Traceback (most recent call last)",
      "\u001b[1;32m<ipython-input-69-b4c91800d9a5>\u001b[0m in \u001b[0;36m<module>\u001b[1;34m()\u001b[0m\n\u001b[0;32m     13\u001b[0m \u001b[0ml\u001b[0m \u001b[1;33m=\u001b[0m \u001b[0mList\u001b[0m\u001b[1;33m(\u001b[0m\u001b[1;33m[\u001b[0m\u001b[1;36m1\u001b[0m\u001b[1;33m,\u001b[0m\u001b[1;36m2\u001b[0m\u001b[1;33m,\u001b[0m\u001b[1;36m3\u001b[0m\u001b[1;33m]\u001b[0m\u001b[1;33m)\u001b[0m\u001b[1;33m\u001b[0m\u001b[0m\n\u001b[0;32m     14\u001b[0m \u001b[0mprint\u001b[0m\u001b[1;33m(\u001b[0m\u001b[0ml\u001b[0m\u001b[1;33m)\u001b[0m          \u001b[1;31m#[1, 2, 3]\u001b[0m\u001b[1;33m\u001b[0m\u001b[0m\n\u001b[1;32m---> 15\u001b[1;33m \u001b[0ml\u001b[0m\u001b[1;33m.\u001b[0m\u001b[0mclear\u001b[0m\u001b[1;33m(\u001b[0m\u001b[1;33m)\u001b[0m       \u001b[1;31m#抛出“权限拒绝”的异常\u001b[0m\u001b[1;33m\u001b[0m\u001b[0m\n\u001b[0m\u001b[0;32m     16\u001b[0m \u001b[0ml\u001b[0m \u001b[1;33m=\u001b[0m \u001b[0mList\u001b[0m\u001b[1;33m(\u001b[0m\u001b[1;33m[\u001b[0m\u001b[1;36m1\u001b[0m\u001b[1;33m,\u001b[0m\u001b[1;36m2\u001b[0m\u001b[1;33m,\u001b[0m\u001b[1;36m3\u001b[0m\u001b[1;33m]\u001b[0m\u001b[1;33m,\u001b[0m\u001b[1;32mTrue\u001b[0m\u001b[1;33m)\u001b[0m  \u001b[1;31m#给一个授权参数为True\u001b[0m\u001b[1;33m\u001b[0m\u001b[0m\n\u001b[0;32m     17\u001b[0m \u001b[0ml\u001b[0m\u001b[1;33m.\u001b[0m\u001b[0mclear\u001b[0m\u001b[1;33m(\u001b[0m\u001b[1;33m)\u001b[0m\u001b[1;33m\u001b[0m\u001b[0m\n",
      "\u001b[1;32m<ipython-input-69-b4c91800d9a5>\u001b[0m in \u001b[0;36mclear\u001b[1;34m(self)\u001b[0m\n\u001b[0;32m      8\u001b[0m         \u001b[1;32mif\u001b[0m \u001b[1;32mnot\u001b[0m \u001b[0mself\u001b[0m\u001b[1;33m.\u001b[0m\u001b[0mperm\u001b[0m\u001b[1;33m:\u001b[0m\u001b[1;33m\u001b[0m\u001b[0m\n\u001b[0;32m      9\u001b[0m \u001b[1;31m#             print(self.perm)\u001b[0m\u001b[1;33m\u001b[0m\u001b[1;33m\u001b[0m\u001b[0m\n\u001b[1;32m---> 10\u001b[1;33m             \u001b[1;32mraise\u001b[0m \u001b[0mPermissionError\u001b[0m\u001b[1;33m(\u001b[0m\u001b[1;34m\"权限拒绝\"\u001b[0m\u001b[1;33m)\u001b[0m\u001b[1;33m\u001b[0m\u001b[0m\n\u001b[0m\u001b[0;32m     11\u001b[0m         \u001b[0msuper\u001b[0m\u001b[1;33m(\u001b[0m\u001b[0mList\u001b[0m\u001b[1;33m,\u001b[0m \u001b[0mself\u001b[0m\u001b[1;33m)\u001b[0m\u001b[1;33m.\u001b[0m\u001b[0mclear\u001b[0m\u001b[1;33m(\u001b[0m\u001b[1;33m)\u001b[0m\u001b[1;33m\u001b[0m\u001b[0m\n\u001b[0;32m     12\u001b[0m \u001b[1;33m\u001b[0m\u001b[0m\n",
      "\u001b[1;31mPermissionError\u001b[0m: 权限拒绝"
     ]
    }
   ],
   "source": [
    "class List(list):\n",
    "    def __init__(self,item,perm=False):\n",
    "        super(List, self).__init__(item)\n",
    "        self.perm = perm\n",
    "            #先设定一个默认的权限\n",
    "\n",
    "    def clear(self):\n",
    "        if not self.perm:\n",
    "#             print(self.perm)\n",
    "            raise PermissionError(\"权限拒绝\")\n",
    "        super(List, self).clear()\n",
    "\n",
    "l = List([1,2,3])\n",
    "print(l)          #[1, 2, 3]\n",
    "# l.clear()       #抛出“权限拒绝”的异常\n",
    "l = List([1,2,3],True)  #给一个授权参数为True\n",
    "l.clear()\n",
    "print(l)          #[]，可以正常清空列表\n",
    "\n"
   ]
  },
  {
   "cell_type": "code",
   "execution_count": 70,
   "metadata": {},
   "outputs": [
    {
     "name": "stdout",
     "output_type": "stream",
     "text": [
      "from __setitem__\n",
      "{'name': 'egon', 'age_2': 20}\n",
      "from __delitem__\n",
      "{'name': 'egon'}\n",
      "from __getitem__\n",
      "None\n"
     ]
    },
    {
     "data": {
      "text/plain": [
       "\"\\n输出结果：\\nfrom __setitem__\\n{'name': 'egon', 'age_2': 20}\\nfrom __delitem__\\n{'name': 'egon'}\\nfrom __getitem__\\nNone\\n\""
      ]
     },
     "execution_count": 70,
     "metadata": {},
     "output_type": "execute_result"
    }
   ],
   "source": [
    "class Foo:\n",
    "    def __init__(self,name):\n",
    "        self.name = name\n",
    "\n",
    "    def __getitem__(self, item):\n",
    "        print(\"from __getitem__\")\n",
    "\n",
    "    def __setitem__(self, key, value):\n",
    "        print(\"from __setitem__\")\n",
    "        self.__dict__[key] = value  #加入此代码，才会真正设值\n",
    "\n",
    "    def `(self, key):\n",
    "        print(\"from __delitem__\")\n",
    "        self.__dict__.pop(key)\n",
    "\n",
    "f1 = Foo(\"egon\")\n",
    "# f1.age = 18     #不会触发__setitem__的执行\n",
    "f1[\"age_2\"] = 20  #会触发__setitem__的执行，并不会真正设值；\n",
    "print(f1.__dict__)\n",
    "del f1[\"age_2\"]\n",
    "print(f1.__dict__)\n",
    "print(f1[\"name\"])   #会触发__getitem__执行，如果__getitem__没有设定返回值，则会返回一个None\n",
    "\n",
    "'''\n",
    "输出结果：\n",
    "from __setitem__\n",
    "{'name': 'egon', 'age_2': 20}\n",
    "from __delitem__\n",
    "{'name': 'egon'}\n",
    "from __getitem__\n",
    "None\n",
    "'''\n",
    "#从结果可以看出，age_2 = 20并没有真正设值成功\n",
    "\n"
   ]
  },
  {
   "cell_type": "code",
   "execution_count": null,
   "metadata": {},
   "outputs": [],
   "source": []
  },
  {
   "cell_type": "code",
   "execution_count": null,
   "metadata": {},
   "outputs": [],
   "source": []
  },
  {
   "cell_type": "code",
   "execution_count": null,
   "metadata": {},
   "outputs": [],
   "source": []
  },
  {
   "cell_type": "code",
   "execution_count": null,
   "metadata": {},
   "outputs": [],
   "source": []
  },
  {
   "cell_type": "code",
   "execution_count": null,
   "metadata": {},
   "outputs": [],
   "source": []
  },
  {
   "cell_type": "code",
   "execution_count": null,
   "metadata": {},
   "outputs": [],
   "source": []
  },
  {
   "cell_type": "code",
   "execution_count": null,
   "metadata": {},
   "outputs": [],
   "source": []
  },
  {
   "cell_type": "code",
   "execution_count": null,
   "metadata": {},
   "outputs": [],
   "source": []
  },
  {
   "cell_type": "code",
   "execution_count": null,
   "metadata": {},
   "outputs": [],
   "source": []
  },
  {
   "cell_type": "code",
   "execution_count": null,
   "metadata": {},
   "outputs": [],
   "source": []
  },
  {
   "cell_type": "code",
   "execution_count": null,
   "metadata": {},
   "outputs": [],
   "source": []
  },
  {
   "cell_type": "code",
   "execution_count": null,
   "metadata": {},
   "outputs": [],
   "source": []
  },
  {
   "cell_type": "code",
   "execution_count": null,
   "metadata": {},
   "outputs": [],
   "source": []
  },
  {
   "cell_type": "code",
   "execution_count": null,
   "metadata": {},
   "outputs": [],
   "source": []
  },
  {
   "cell_type": "code",
   "execution_count": null,
   "metadata": {},
   "outputs": [],
   "source": []
  },
  {
   "cell_type": "code",
   "execution_count": null,
   "metadata": {},
   "outputs": [],
   "source": []
  },
  {
   "cell_type": "code",
   "execution_count": null,
   "metadata": {},
   "outputs": [],
   "source": []
  }
 ],
 "metadata": {
  "kernelspec": {
   "display_name": "Python 3",
   "language": "python",
   "name": "python3"
  },
  "language_info": {
   "codemirror_mode": {
    "name": "ipython",
    "version": 3
   },
   "file_extension": ".py",
   "mimetype": "text/x-python",
   "name": "python",
   "nbconvert_exporter": "python",
   "pygments_lexer": "ipython3",
   "version": "3.6.4"
  }
 },
 "nbformat": 4,
 "nbformat_minor": 2
}
